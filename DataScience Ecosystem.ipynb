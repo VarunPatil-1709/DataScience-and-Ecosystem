{
 "cells": [
  {
   "cell_type": "markdown",
   "id": "3971ab37",
   "metadata": {},
   "source": [
    "# Data Science And Ecosystem "
   ]
  },
  {
   "cell_type": "markdown",
   "id": "522f89ff",
   "metadata": {},
   "source": [
    "In These notebook we summerized the data science tools and Ecosystem."
   ]
  },
  {
   "cell_type": "markdown",
   "id": "e4dfac4e",
   "metadata": {},
   "source": [
    "There is some laungueges we are use in the Data Science:\n",
    "1.Python\n",
    "2.R\n",
    "3.SQL\n",
    "4.Java\n",
    "5.C++,etc;"
   ]
  },
  {
   "cell_type": "markdown",
   "id": "7196dc18",
   "metadata": {},
   "source": [
    "Some of the commonly used libraries used by Data Scientist :\n",
    "1.Tensorflow\n",
    "2.Pandas\n",
    "3.Numpy\n",
    "4.Seaborn\n",
    "5.Scikit-Learn\n",
    "6.PyTorch\n",
    "7.Matplotlib\n",
    "8.Keras,etc;"
   ]
  },
  {
   "cell_type": "markdown",
   "id": "dba55b49",
   "metadata": {},
   "source": [
    "|Data Science Tools|\n",
    "|---|\n",
    "|SAS|\n",
    "|Apache Hadoop|\n",
    "|TensorFlow|"
   ]
  },
  {
   "cell_type": "markdown",
   "id": "c01a53e4",
   "metadata": {},
   "source": [
    "### Examples of evaluating arithmatic expression :-"
   ]
  },
  {
   "cell_type": "code",
   "execution_count": 1,
   "id": "d0e1ddf2",
   "metadata": {},
   "outputs": [
    {
     "data": {
      "text/plain": [
       "47"
      ]
     },
     "execution_count": 1,
     "metadata": {},
     "output_type": "execute_result"
    }
   ],
   "source": [
    "#There is the example to multiply and add numbers.\n",
    "(5*7)+12"
   ]
  },
  {
   "cell_type": "code",
   "execution_count": 2,
   "id": "448fe5a2",
   "metadata": {},
   "outputs": [
    {
     "data": {
      "text/plain": [
       "2.5"
      ]
     },
     "execution_count": 2,
     "metadata": {},
     "output_type": "execute_result"
    }
   ],
   "source": [
    "#Example to convert 150 minutes to hours by dividing 60\n",
    "150/60\n"
   ]
  },
  {
   "cell_type": "markdown",
   "id": "3dc22dd3",
   "metadata": {},
   "source": [
    "__Objectives__\n",
    "*List popular languages of Data Science.\n",
    "*List popular libraries for Data Science.\n",
    "*List popular tools for Data Science.\n",
    "*How to provide a comment in the cell?"
   ]
  },
  {
   "cell_type": "markdown",
   "id": "1b58e26c",
   "metadata": {},
   "source": [
    "## Author:-\n",
    "    Varun Patil"
   ]
  }
 ],
 "metadata": {
  "kernelspec": {
   "display_name": "Python 3 (ipykernel)",
   "language": "python",
   "name": "python3"
  },
  "language_info": {
   "codemirror_mode": {
    "name": "ipython",
    "version": 3
   },
   "file_extension": ".py",
   "mimetype": "text/x-python",
   "name": "python",
   "nbconvert_exporter": "python",
   "pygments_lexer": "ipython3",
   "version": "3.11.2"
  }
 },
 "nbformat": 4,
 "nbformat_minor": 5
}
